{
 "cells": [
  {
   "cell_type": "markdown",
   "metadata": {},
   "source": [
    "## <h1 style=\"color: green;\">LAB 02: WORKING WITH TIME-SERIES DATA</h1>"
   ]
  },
  {
   "cell_type": "markdown",
   "metadata": {},
   "source": [
    "#### Import thư viện và dữ liệu"
   ]
  },
  {
   "cell_type": "code",
   "execution_count": null,
   "metadata": {},
   "outputs": [],
   "source": [
    "import pandas as pd\n",
    "import numpy as np\n",
    "import matplotlib.pyplot as plt\n",
    "import seaborn as sns"
   ]
  },
  {
   "cell_type": "code",
   "execution_count": null,
   "metadata": {},
   "outputs": [],
   "source": [
    "# Load the dataset\n",
    "df = pd.read_csv('Data/Road Accident Data.csv')"
   ]
  },
  {
   "cell_type": "markdown",
   "metadata": {},
   "source": [
    "### 1. Thu Thập Dữ Liệu (Data Collection)"
   ]
  },
  {
   "cell_type": "markdown",
   "metadata": {},
   "source": []
  },
  {
   "cell_type": "markdown",
   "metadata": {},
   "source": [
    "### 2. Khám Phá Dữ Liệu (Data Exploration)"
   ]
  },
  {
   "cell_type": "markdown",
   "metadata": {},
   "source": [
    "### Data preprocessing"
   ]
  },
  {
   "cell_type": "code",
   "execution_count": null,
   "metadata": {},
   "outputs": [],
   "source": [
    "df.info()"
   ]
  },
  {
   "cell_type": "code",
   "execution_count": null,
   "metadata": {},
   "outputs": [],
   "source": [
    "df['Vehicle_Type'].unique()"
   ]
  },
  {
   "cell_type": "code",
   "execution_count": null,
   "metadata": {},
   "outputs": [],
   "source": [
    "category_mapping = {\n",
    "    'Car': 'Car',\n",
    "    'Taxi/Private hire car': 'Taxi',\n",
    "    'Motorcycle over 500cc': 'Motorcycle',\n",
    "    'Van / Goods 3.5 tonnes mgw or under': 'Van',\n",
    "    'Goods over 3.5t. and under 7.5t': 'Other',\n",
    "    'Motorcycle 125cc and under': 'Motorcycle',\n",
    "    'Motorcycle 50cc and under': 'Motorcycle',\n",
    "    'Bus or coach (17 or more pass seats)': 'Bus',\n",
    "    'Goods 7.5 tonnes mgw and over': 'Other',\n",
    "    'Other vehicle': 'Other',\n",
    "    'Motorcycle over 125cc and up to 500cc': 'Motorcycle',\n",
    "    'Agricultural vehicle': 'Other',\n",
    "    'Minibus (8 - 16 passenger seats)': 'Other',\n",
    "    'Pedal cycle': 'Pedal cycle',\n",
    "    'Ridden horse': 'Ridden horse'\n",
    "}\n",
    "\n",
    "# Map values in 'Vehicle_Type' column to the specified categories\n",
    "df['Vehicle_Type'] = df['Vehicle_Type'].map(category_mapping)"
   ]
  },
  {
   "cell_type": "code",
   "execution_count": null,
   "metadata": {},
   "outputs": [],
   "source": [
    "# Tạo cột \"Year\" và \"Month\" để phân tích xu hướng theo năm và tháng\n",
    "df['Year'] = df['Accident Date'].dt.year\n",
    "df['Month'] = df['Accident Date'].dt.month\n",
    "df['Day'] = df['Accident Date'].dt.day"
   ]
  },
  {
   "cell_type": "code",
   "execution_count": null,
   "metadata": {},
   "outputs": [],
   "source": [
    "print(type(accidents_by_month))"
   ]
  },
  {
   "cell_type": "markdown",
   "metadata": {},
   "source": [
    "### Phân tích biểu đồ các cột đôi"
   ]
  },
  {
   "cell_type": "code",
   "execution_count": null,
   "metadata": {},
   "outputs": [],
   "source": [
    "# Vẽ biểu đồ đường theo tháng\n",
    "plt.figure(figsize=(12, 6))\n",
    "accidents_by_month['Date'] = pd.to_datetime(accidents_by_month['Year'].astype(str) + '-' + accidents_by_month['Month'].astype(str), format='%Y-%m')\n",
    "sns.lineplot(x='Date', y='Accidents', data=accidents_by_month)\n",
    "plt.title('Tổng số tai nạn giao thông theo tháng')\n",
    "plt.xlabel('Thời gian')\n",
    "plt.ylabel('Số tai nạn')\n",
    "plt.xticks(rotation=45)\n",
    "plt.tight_layout()\n",
    "plt.show()"
   ]
  },
  {
   "cell_type": "code",
   "execution_count": null,
   "metadata": {},
   "outputs": [],
   "source": [
    "# Vẽ biểu đồ đường theo ngày\n",
    "plt.figure(figsize=(12, 6))\n",
    "sns.lineplot(x='Accident Date', y='Accidents', data=accidents_by_day)\n",
    "plt.title('Tổng số tai nạn giao thông theo ngày')\n",
    "plt.xlabel('Ngày')\n",
    "plt.ylabel('Số tai nạn')\n",
    "# plt.xticks(rotation=45)\n",
    "plt.tight_layout()\n",
    "plt.show()"
   ]
  },
  {
   "cell_type": "code",
   "execution_count": null,
   "metadata": {},
   "outputs": [],
   "source": [
    "from statsmodels.tsa.seasonal import seasonal_decompose\n",
    "\n",
    "# Chuyển dữ liệu thành một chuỗi thời gian theo tháng\n",
    "accidents_by_month['Date'] = pd.to_datetime(accidents_by_month['Year'].astype(str) + '-' + accidents_by_month['Month'].astype(str), format='%Y-%m')\n",
    "accidents_by_month.set_index('Date', inplace=True)\n",
    "\n",
    "# Decompose chuỗi thời gian\n",
    "decomposition = seasonal_decompose(accidents_by_month['Accidents'], model='additive', period=12)\n",
    "\n",
    "# Vẽ decomposition\n",
    "plt.figure(figsize=(12, 8))\n",
    "decomposition.plot()\n",
    "plt.tight_layout()\n",
    "plt.show()"
   ]
  },
  {
   "cell_type": "markdown",
   "metadata": {},
   "source": [
    "Có sự khác biệt nào về xu hướng và chu kỳ của số lượng tai nạn trong các khu vực đô thị và nông thôn không?"
   ]
  },
  {
   "cell_type": "code",
   "execution_count": null,
   "metadata": {},
   "outputs": [],
   "source": [
    "# Tách dữ liệu thành hai nhóm: Đô thị và Nông thôn\n",
    "urban_accidents = df[df['Urban_or_Rural_Area'] == 'Urban']\n",
    "rural_accidents = df[df['Urban_or_Rural_Area'] == 'Rural']\n",
    "\n",
    "# Nhóm số tai nạn theo thời gian (tháng) cho từng nhóm\n",
    "urban_accidents_by_month = (\n",
    "    urban_accidents.groupby(['Year', 'Month'])\n",
    "    .size()\n",
    "    .reset_index(name='Accidents')\n",
    ")\n",
    "rural_accidents_by_month = (\n",
    "    rural_accidents.groupby(['Year', 'Month'])\n",
    "    .size()\n",
    "    .reset_index(name='Accidents')\n",
    ")\n",
    "\n",
    "# Thêm cột \"Date\" cho chuỗi thời gian\n",
    "urban_accidents_by_month['Date'] = pd.to_datetime(\n",
    "    urban_accidents_by_month['Year'].astype(str) + '-' + urban_accidents_by_month['Month'].astype(str),\n",
    "    format='%Y-%m'\n",
    ")\n",
    "rural_accidents_by_month['Date'] = pd.to_datetime(\n",
    "    rural_accidents_by_month['Year'].astype(str) + '-' + rural_accidents_by_month['Month'].astype(str),\n",
    "    format='%Y-%m'\n",
    ")\n",
    "\n",
    "# Đặt cột Date làm chỉ số để phục vụ phân tích chuỗi thời gian\n",
    "urban_accidents_by_month.set_index('Date', inplace=True)\n",
    "rural_accidents_by_month.set_index('Date', inplace=True)\n"
   ]
  },
  {
   "cell_type": "code",
   "execution_count": null,
   "metadata": {},
   "outputs": [],
   "source": [
    "from statsmodels.tsa.seasonal import seasonal_decompose\n",
    "\n",
    "# Phân tích decomposition cho khu vực đô thị\n",
    "urban_decompose = seasonal_decompose(urban_accidents_by_month['Accidents'], model='additive', period=12)\n",
    "rural_decompose = seasonal_decompose(rural_accidents_by_month['Accidents'], model='additive', period=12)\n",
    "\n",
    "# Vẽ decomposition plot cho khu vực đô thị\n",
    "plt.figure(figsize=(12, 8))\n",
    "urban_decompose.plot()\n",
    "plt.suptitle('Decomposition Plot - Khu vực Đô thị', fontsize=16)\n",
    "plt.tight_layout()\n",
    "plt.show()\n",
    "\n",
    "# Vẽ decomposition plot cho khu vực nông thôn\n",
    "plt.figure(figsize=(12, 8))\n",
    "rural_decompose.plot()\n",
    "plt.suptitle('Decomposition Plot - Khu vực Nông thôn', fontsize=16)\n",
    "plt.tight_layout()\n",
    "plt.show()\n"
   ]
  },
  {
   "cell_type": "code",
   "execution_count": null,
   "metadata": {},
   "outputs": [],
   "source": [
    "# Tổng hợp dữ liệu để vẽ Stacked Area Chart\n",
    "combined_accidents = pd.DataFrame({\n",
    "    'Date': urban_accidents_by_month.index,\n",
    "    'Urban': urban_accidents_by_month['Accidents'],\n",
    "    'Rural': rural_accidents_by_month['Accidents']\n",
    "}).set_index('Date')\n",
    "\n",
    "# Vẽ biểu đồ Stacked Area Chart\n",
    "plt.figure(figsize=(12, 6))\n",
    "combined_accidents.plot.area(stacked=True, alpha=0.6, figsize=(12, 6))\n",
    "plt.title('Phân bổ số lượng tai nạn giữa Đô thị và Nông thôn theo thời gian', fontsize=16)\n",
    "plt.xlabel('Thời gian')\n",
    "plt.ylabel('Số lượng tai nạn')\n",
    "plt.legend(['Đô thị', 'Nông thôn'])\n",
    "plt.tight_layout()\n",
    "plt.show()\n"
   ]
  },
  {
   "cell_type": "markdown",
   "metadata": {},
   "source": [
    "### 3. Khám Phá Các Mối Quan Hệ Trong Dữ Liệu"
   ]
  },
  {
   "cell_type": "markdown",
   "metadata": {},
   "source": [
    "#### 3.1 Khám phá các mối quan hệ đơn thuộc tính"
   ]
  },
  {
   "cell_type": "code",
   "execution_count": null,
   "metadata": {},
   "outputs": [],
   "source": []
  },
  {
   "cell_type": "markdown",
   "metadata": {},
   "source": [
    "#### 3.2 Khám phá các mối quan hệ đa thuộc tính"
   ]
  },
  {
   "cell_type": "code",
   "execution_count": null,
   "metadata": {},
   "outputs": [],
   "source": []
  },
  {
   "cell_type": "markdown",
   "metadata": {},
   "source": [
    "### 3.3 Phân tích sử dụng mô hình Machine learning"
   ]
  },
  {
   "cell_type": "code",
   "execution_count": null,
   "metadata": {},
   "outputs": [],
   "source": []
  }
 ],
 "metadata": {
  "kernelspec": {
   "display_name": "min_ds-env2",
   "language": "python",
   "name": "python3"
  },
  "language_info": {
   "codemirror_mode": {
    "name": "ipython",
    "version": 3
   },
   "file_extension": ".py",
   "mimetype": "text/x-python",
   "name": "python",
   "nbconvert_exporter": "python",
   "pygments_lexer": "ipython3",
   "version": "3.10.15"
  }
 },
 "nbformat": 4,
 "nbformat_minor": 2
}
